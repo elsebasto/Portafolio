{
  "nbformat": 4,
  "nbformat_minor": 0,
  "metadata": {
    "colab": {
      "provenance": [],
      "collapsed_sections": []
    },
    "kernelspec": {
      "name": "python3",
      "display_name": "Python 3"
    },
    "language_info": {
      "name": "python"
    }
  },
  "cells": [
    {
      "cell_type": "markdown",
      "source": [
        "#**Maestría en Inteligencia Artificial Aplicada**\n",
        "##**Curso: Inteligencia Artificial y Aprendizaje Automático**\n",
        "###Tecnológico de Monterrey\n",
        "###Prof Luis Eduardo Falcón Morales\n",
        "\n",
        "### **Semana 9**\n",
        "####**Actividad en clase: Taxonomía de métricas de clasificación**"
      ],
      "metadata": {
        "id": "pdB1GZL15DVc"
      }
    },
    {
      "cell_type": "code",
      "source": [
        "import numpy as np\n",
        "import pandas as pd"
      ],
      "metadata": {
        "id": "UJockJ3jzLXC"
      },
      "execution_count": null,
      "outputs": []
    },
    {
      "cell_type": "code",
      "source": [
        "df = pd.read_csv(\"oil_spill.csv\", header=None)\n",
        "df.head()"
      ],
      "metadata": {
        "colab": {
          "base_uri": "https://localhost:8080/",
          "height": 235
        },
        "id": "gqBA8x2hyyd_",
        "outputId": "edca4bd6-b733-4a86-dbce-9015a98a0526"
      },
      "execution_count": null,
      "outputs": [
        {
          "output_type": "execute_result",
          "data": {
            "text/plain": [
              "   0      1        2       3    4           5      6     7        8     9   \\\n",
              "0   1   2558  1506.09  456.63   90   6395000.0  40.88  7.89  29780.0  0.19   \n",
              "1   2  22325    79.11  841.03  180  55812500.0  51.11  1.21  61900.0  0.02   \n",
              "2   3    115  1449.85  608.43   88    287500.0  40.42  7.34   3340.0  0.18   \n",
              "3   4   1201  1562.53  295.65   66   3002500.0  42.40  7.97  18030.0  0.19   \n",
              "4   5    312   950.27  440.86   37    780000.0  41.43  7.03   3350.0  0.17   \n",
              "\n",
              "   ...       40        41       42       43     44  45        46     47    48  \\\n",
              "0  ...  2850.00   1000.00   763.16   135.46   3.73   0  33243.19  65.74  7.95   \n",
              "1  ...  5750.00  11500.00  9593.48  1648.80   0.60   0  51572.04  65.73  6.26   \n",
              "2  ...  1400.00    250.00   150.00    45.13   9.33   1  31692.84  65.81  7.84   \n",
              "3  ...  6041.52    761.58   453.21   144.97  13.33   1  37696.21  65.67  8.07   \n",
              "4  ...  1320.04    710.63   512.54   109.16   2.58   0  29038.17  65.66  7.35   \n",
              "\n",
              "   49  \n",
              "0   1  \n",
              "1   0  \n",
              "2   1  \n",
              "3   1  \n",
              "4   0  \n",
              "\n",
              "[5 rows x 50 columns]"
            ],
            "text/html": [
              "\n",
              "  <div id=\"df-429f02f7-fedc-40db-85b4-b3726277b773\">\n",
              "    <div class=\"colab-df-container\">\n",
              "      <div>\n",
              "<style scoped>\n",
              "    .dataframe tbody tr th:only-of-type {\n",
              "        vertical-align: middle;\n",
              "    }\n",
              "\n",
              "    .dataframe tbody tr th {\n",
              "        vertical-align: top;\n",
              "    }\n",
              "\n",
              "    .dataframe thead th {\n",
              "        text-align: right;\n",
              "    }\n",
              "</style>\n",
              "<table border=\"1\" class=\"dataframe\">\n",
              "  <thead>\n",
              "    <tr style=\"text-align: right;\">\n",
              "      <th></th>\n",
              "      <th>0</th>\n",
              "      <th>1</th>\n",
              "      <th>2</th>\n",
              "      <th>3</th>\n",
              "      <th>4</th>\n",
              "      <th>5</th>\n",
              "      <th>6</th>\n",
              "      <th>7</th>\n",
              "      <th>8</th>\n",
              "      <th>9</th>\n",
              "      <th>...</th>\n",
              "      <th>40</th>\n",
              "      <th>41</th>\n",
              "      <th>42</th>\n",
              "      <th>43</th>\n",
              "      <th>44</th>\n",
              "      <th>45</th>\n",
              "      <th>46</th>\n",
              "      <th>47</th>\n",
              "      <th>48</th>\n",
              "      <th>49</th>\n",
              "    </tr>\n",
              "  </thead>\n",
              "  <tbody>\n",
              "    <tr>\n",
              "      <th>0</th>\n",
              "      <td>1</td>\n",
              "      <td>2558</td>\n",
              "      <td>1506.09</td>\n",
              "      <td>456.63</td>\n",
              "      <td>90</td>\n",
              "      <td>6395000.0</td>\n",
              "      <td>40.88</td>\n",
              "      <td>7.89</td>\n",
              "      <td>29780.0</td>\n",
              "      <td>0.19</td>\n",
              "      <td>...</td>\n",
              "      <td>2850.00</td>\n",
              "      <td>1000.00</td>\n",
              "      <td>763.16</td>\n",
              "      <td>135.46</td>\n",
              "      <td>3.73</td>\n",
              "      <td>0</td>\n",
              "      <td>33243.19</td>\n",
              "      <td>65.74</td>\n",
              "      <td>7.95</td>\n",
              "      <td>1</td>\n",
              "    </tr>\n",
              "    <tr>\n",
              "      <th>1</th>\n",
              "      <td>2</td>\n",
              "      <td>22325</td>\n",
              "      <td>79.11</td>\n",
              "      <td>841.03</td>\n",
              "      <td>180</td>\n",
              "      <td>55812500.0</td>\n",
              "      <td>51.11</td>\n",
              "      <td>1.21</td>\n",
              "      <td>61900.0</td>\n",
              "      <td>0.02</td>\n",
              "      <td>...</td>\n",
              "      <td>5750.00</td>\n",
              "      <td>11500.00</td>\n",
              "      <td>9593.48</td>\n",
              "      <td>1648.80</td>\n",
              "      <td>0.60</td>\n",
              "      <td>0</td>\n",
              "      <td>51572.04</td>\n",
              "      <td>65.73</td>\n",
              "      <td>6.26</td>\n",
              "      <td>0</td>\n",
              "    </tr>\n",
              "    <tr>\n",
              "      <th>2</th>\n",
              "      <td>3</td>\n",
              "      <td>115</td>\n",
              "      <td>1449.85</td>\n",
              "      <td>608.43</td>\n",
              "      <td>88</td>\n",
              "      <td>287500.0</td>\n",
              "      <td>40.42</td>\n",
              "      <td>7.34</td>\n",
              "      <td>3340.0</td>\n",
              "      <td>0.18</td>\n",
              "      <td>...</td>\n",
              "      <td>1400.00</td>\n",
              "      <td>250.00</td>\n",
              "      <td>150.00</td>\n",
              "      <td>45.13</td>\n",
              "      <td>9.33</td>\n",
              "      <td>1</td>\n",
              "      <td>31692.84</td>\n",
              "      <td>65.81</td>\n",
              "      <td>7.84</td>\n",
              "      <td>1</td>\n",
              "    </tr>\n",
              "    <tr>\n",
              "      <th>3</th>\n",
              "      <td>4</td>\n",
              "      <td>1201</td>\n",
              "      <td>1562.53</td>\n",
              "      <td>295.65</td>\n",
              "      <td>66</td>\n",
              "      <td>3002500.0</td>\n",
              "      <td>42.40</td>\n",
              "      <td>7.97</td>\n",
              "      <td>18030.0</td>\n",
              "      <td>0.19</td>\n",
              "      <td>...</td>\n",
              "      <td>6041.52</td>\n",
              "      <td>761.58</td>\n",
              "      <td>453.21</td>\n",
              "      <td>144.97</td>\n",
              "      <td>13.33</td>\n",
              "      <td>1</td>\n",
              "      <td>37696.21</td>\n",
              "      <td>65.67</td>\n",
              "      <td>8.07</td>\n",
              "      <td>1</td>\n",
              "    </tr>\n",
              "    <tr>\n",
              "      <th>4</th>\n",
              "      <td>5</td>\n",
              "      <td>312</td>\n",
              "      <td>950.27</td>\n",
              "      <td>440.86</td>\n",
              "      <td>37</td>\n",
              "      <td>780000.0</td>\n",
              "      <td>41.43</td>\n",
              "      <td>7.03</td>\n",
              "      <td>3350.0</td>\n",
              "      <td>0.17</td>\n",
              "      <td>...</td>\n",
              "      <td>1320.04</td>\n",
              "      <td>710.63</td>\n",
              "      <td>512.54</td>\n",
              "      <td>109.16</td>\n",
              "      <td>2.58</td>\n",
              "      <td>0</td>\n",
              "      <td>29038.17</td>\n",
              "      <td>65.66</td>\n",
              "      <td>7.35</td>\n",
              "      <td>0</td>\n",
              "    </tr>\n",
              "  </tbody>\n",
              "</table>\n",
              "<p>5 rows × 50 columns</p>\n",
              "</div>\n",
              "      <button class=\"colab-df-convert\" onclick=\"convertToInteractive('df-429f02f7-fedc-40db-85b4-b3726277b773')\"\n",
              "              title=\"Convert this dataframe to an interactive table.\"\n",
              "              style=\"display:none;\">\n",
              "        \n",
              "  <svg xmlns=\"http://www.w3.org/2000/svg\" height=\"24px\"viewBox=\"0 0 24 24\"\n",
              "       width=\"24px\">\n",
              "    <path d=\"M0 0h24v24H0V0z\" fill=\"none\"/>\n",
              "    <path d=\"M18.56 5.44l.94 2.06.94-2.06 2.06-.94-2.06-.94-.94-2.06-.94 2.06-2.06.94zm-11 1L8.5 8.5l.94-2.06 2.06-.94-2.06-.94L8.5 2.5l-.94 2.06-2.06.94zm10 10l.94 2.06.94-2.06 2.06-.94-2.06-.94-.94-2.06-.94 2.06-2.06.94z\"/><path d=\"M17.41 7.96l-1.37-1.37c-.4-.4-.92-.59-1.43-.59-.52 0-1.04.2-1.43.59L10.3 9.45l-7.72 7.72c-.78.78-.78 2.05 0 2.83L4 21.41c.39.39.9.59 1.41.59.51 0 1.02-.2 1.41-.59l7.78-7.78 2.81-2.81c.8-.78.8-2.07 0-2.86zM5.41 20L4 18.59l7.72-7.72 1.47 1.35L5.41 20z\"/>\n",
              "  </svg>\n",
              "      </button>\n",
              "      \n",
              "  <style>\n",
              "    .colab-df-container {\n",
              "      display:flex;\n",
              "      flex-wrap:wrap;\n",
              "      gap: 12px;\n",
              "    }\n",
              "\n",
              "    .colab-df-convert {\n",
              "      background-color: #E8F0FE;\n",
              "      border: none;\n",
              "      border-radius: 50%;\n",
              "      cursor: pointer;\n",
              "      display: none;\n",
              "      fill: #1967D2;\n",
              "      height: 32px;\n",
              "      padding: 0 0 0 0;\n",
              "      width: 32px;\n",
              "    }\n",
              "\n",
              "    .colab-df-convert:hover {\n",
              "      background-color: #E2EBFA;\n",
              "      box-shadow: 0px 1px 2px rgba(60, 64, 67, 0.3), 0px 1px 3px 1px rgba(60, 64, 67, 0.15);\n",
              "      fill: #174EA6;\n",
              "    }\n",
              "\n",
              "    [theme=dark] .colab-df-convert {\n",
              "      background-color: #3B4455;\n",
              "      fill: #D2E3FC;\n",
              "    }\n",
              "\n",
              "    [theme=dark] .colab-df-convert:hover {\n",
              "      background-color: #434B5C;\n",
              "      box-shadow: 0px 1px 3px 1px rgba(0, 0, 0, 0.15);\n",
              "      filter: drop-shadow(0px 1px 2px rgba(0, 0, 0, 0.3));\n",
              "      fill: #FFFFFF;\n",
              "    }\n",
              "  </style>\n",
              "\n",
              "      <script>\n",
              "        const buttonEl =\n",
              "          document.querySelector('#df-429f02f7-fedc-40db-85b4-b3726277b773 button.colab-df-convert');\n",
              "        buttonEl.style.display =\n",
              "          google.colab.kernel.accessAllowed ? 'block' : 'none';\n",
              "\n",
              "        async function convertToInteractive(key) {\n",
              "          const element = document.querySelector('#df-429f02f7-fedc-40db-85b4-b3726277b773');\n",
              "          const dataTable =\n",
              "            await google.colab.kernel.invokeFunction('convertToInteractive',\n",
              "                                                     [key], {});\n",
              "          if (!dataTable) return;\n",
              "\n",
              "          const docLinkHtml = 'Like what you see? Visit the ' +\n",
              "            '<a target=\"_blank\" href=https://colab.research.google.com/notebooks/data_table.ipynb>data table notebook</a>'\n",
              "            + ' to learn more about interactive tables.';\n",
              "          element.innerHTML = '';\n",
              "          dataTable['output_type'] = 'display_data';\n",
              "          await google.colab.output.renderOutput(dataTable, element);\n",
              "          const docLink = document.createElement('div');\n",
              "          docLink.innerHTML = docLinkHtml;\n",
              "          element.appendChild(docLink);\n",
              "        }\n",
              "      </script>\n",
              "    </div>\n",
              "  </div>\n",
              "  "
            ]
          },
          "metadata": {},
          "execution_count": 2
        }
      ]
    },
    {
      "cell_type": "code",
      "source": [
        "X, y = df.iloc[:, :-1], df.iloc[:, -1]\n",
        "\n",
        "print(X.shape)\n",
        "print(y.shape)"
      ],
      "metadata": {
        "colab": {
          "base_uri": "https://localhost:8080/"
        },
        "id": "gHoITjZ6zUVB",
        "outputId": "a87c0bdb-2da5-4a6a-e32a-25eb42097d43"
      },
      "execution_count": null,
      "outputs": [
        {
          "output_type": "stream",
          "name": "stdout",
          "text": [
            "(937, 49)\n",
            "(937,)\n"
          ]
        }
      ]
    },
    {
      "cell_type": "code",
      "source": [
        "print((X.shape[0] - y.sum()) / y.shape[0])\n",
        "print(y.sum() / y.shape[0])"
      ],
      "metadata": {
        "colab": {
          "base_uri": "https://localhost:8080/"
        },
        "id": "8GSHqMWxQ_cP",
        "outputId": "45aa0c8a-3ea5-439a-a699-ac87d780433c"
      },
      "execution_count": null,
      "outputs": [
        {
          "output_type": "stream",
          "name": "stdout",
          "text": [
            "0.9562433297758804\n",
            "0.04375667022411953\n"
          ]
        }
      ]
    },
    {
      "cell_type": "code",
      "source": [
        "df.info()"
      ],
      "metadata": {
        "colab": {
          "base_uri": "https://localhost:8080/"
        },
        "id": "OQ6TZUx7t9fP",
        "outputId": "f296e2b9-2d99-4e05-c8b0-2072047d45ac"
      },
      "execution_count": null,
      "outputs": [
        {
          "output_type": "stream",
          "name": "stdout",
          "text": [
            "<class 'pandas.core.frame.DataFrame'>\n",
            "RangeIndex: 937 entries, 0 to 936\n",
            "Data columns (total 50 columns):\n",
            " #   Column  Non-Null Count  Dtype  \n",
            "---  ------  --------------  -----  \n",
            " 0   0       937 non-null    int64  \n",
            " 1   1       937 non-null    int64  \n",
            " 2   2       937 non-null    float64\n",
            " 3   3       937 non-null    float64\n",
            " 4   4       937 non-null    int64  \n",
            " 5   5       937 non-null    float64\n",
            " 6   6       937 non-null    float64\n",
            " 7   7       937 non-null    float64\n",
            " 8   8       937 non-null    float64\n",
            " 9   9       937 non-null    float64\n",
            " 10  10      937 non-null    float64\n",
            " 11  11      937 non-null    float64\n",
            " 12  12      937 non-null    float64\n",
            " 13  13      937 non-null    float64\n",
            " 14  14      937 non-null    float64\n",
            " 15  15      937 non-null    float64\n",
            " 16  16      937 non-null    float64\n",
            " 17  17      937 non-null    float64\n",
            " 18  18      937 non-null    float64\n",
            " 19  19      937 non-null    float64\n",
            " 20  20      937 non-null    float64\n",
            " 21  21      937 non-null    float64\n",
            " 22  22      937 non-null    int64  \n",
            " 23  23      937 non-null    float64\n",
            " 24  24      937 non-null    float64\n",
            " 25  25      937 non-null    float64\n",
            " 26  26      937 non-null    float64\n",
            " 27  27      937 non-null    float64\n",
            " 28  28      937 non-null    float64\n",
            " 29  29      937 non-null    float64\n",
            " 30  30      937 non-null    float64\n",
            " 31  31      937 non-null    float64\n",
            " 32  32      937 non-null    float64\n",
            " 33  33      937 non-null    float64\n",
            " 34  34      937 non-null    int64  \n",
            " 35  35      937 non-null    int64  \n",
            " 36  36      937 non-null    float64\n",
            " 37  37      937 non-null    float64\n",
            " 38  38      937 non-null    int64  \n",
            " 39  39      937 non-null    int64  \n",
            " 40  40      937 non-null    float64\n",
            " 41  41      937 non-null    float64\n",
            " 42  42      937 non-null    float64\n",
            " 43  43      937 non-null    float64\n",
            " 44  44      937 non-null    float64\n",
            " 45  45      937 non-null    int64  \n",
            " 46  46      937 non-null    float64\n",
            " 47  47      937 non-null    float64\n",
            " 48  48      937 non-null    float64\n",
            " 49  49      937 non-null    int64  \n",
            "dtypes: float64(40), int64(10)\n",
            "memory usage: 366.1 KB\n"
          ]
        }
      ]
    },
    {
      "cell_type": "markdown",
      "source": [
        "#**Hecho 1-a: Describe el problema y el objetivo que se busca**\n",
        "\n",
        "*   Esta base de datos fue parte del artículo de 1998 llamado \"Machine Learning for the Detection of Oil Spills in Satellite Radar Images\", Kubat, Holte, Matwin:\n",
        "\n",
        "https://link.springer.com/content/pdf/10.1023/A:1007452223027.pdf\n",
        "\n",
        "*   La manera en que se generó la base de datos fue a partir de imágenes satelitales del océano, unas de las cuales incluían derrame de petróleo y otras no lo incluían. Cada imagen se seccionó y a cada pedazo se le aplicaron técnicas de procesamiento de imágenes para extraer diversos vectores de características que describen el contenido de ese pedazo de imagen.\n",
        "\n",
        "*   Se tienen 47 columnas de vectores de características como datos de entrada, las etiquetas de 1s y 0s en el vector y. Hay un total de 937 registros.\n",
        "\n",
        "*   Todos los vectores de características son de tipo numérico real (flotante). No existen datos perdidos.\n",
        "\n",
        "*   El problema se plantea como de aprendizaje supervisado, donde el objetivo es determinar si existe o no derrame a partir de los vectores de características numéricos de entrada que se obtuvieron de cada pedazo de imagen.\n",
        "\n",
        "* El predecir que hay un derrame, implica movilizar un flotilla de barcos con equipo especial, técnicos e ingenieros especialistas, helicópteros, etc.)\n",
        "\n"
      ],
      "metadata": {
        "id": "a818wePJOPRB"
      }
    },
    {
      "cell_type": "markdown",
      "source": [
        "#**HECHO 1-b: ¿Es un problema desbalanceado? ¿Cómo se podría enfrentar?**\n",
        "\n",
        "*   Existe un desbalanceo de clases: 95.6% (clase negativa) vs 4.4% (clase positiva).\n",
        "\n",
        "*   Observamos que tenemos un conjunto de datos bastante desbalanceado. \n",
        "\n",
        "*   El desbalanceo es tal que se requiere algo más que simplemente técnicas de ajuste de pesos de clases a través del argumento **weight_class** que tienen algunas modelos de aprendizaje automático.\n",
        "\n",
        "*   Esto nos lleva a que deberemos usar técnicas de balanceo como SMOTE, Tomeklinks y no solo weight_class. \n",
        "\n",
        "*   El desbalanceo también no lleva a seleccionar algunas métricas que se centren en la clase positiva.\n",
        "\n"
      ],
      "metadata": {
        "id": "mYDqk54sClqb"
      }
    },
    {
      "cell_type": "code",
      "source": [
        "y[0:7]"
      ],
      "metadata": {
        "colab": {
          "base_uri": "https://localhost:8080/"
        },
        "id": "xjQQ5LHSOD3e",
        "outputId": "d6edb51c-0992-456f-edbe-53e8b4251d2b"
      },
      "execution_count": null,
      "outputs": [
        {
          "output_type": "execute_result",
          "data": {
            "text/plain": [
              "0    1\n",
              "1    0\n",
              "2    1\n",
              "3    1\n",
              "4    0\n",
              "5    1\n",
              "6    1\n",
              "Name: 49, dtype: int64"
            ]
          },
          "metadata": {},
          "execution_count": 5
        }
      ]
    },
    {
      "cell_type": "code",
      "source": [
        "print(X.shape, y.shape)\n",
        "\n",
        "print(y.sum())\n",
        "\n",
        "print((y.shape[0] -y.sum()) / y.shape[0])\n",
        "\n",
        "print(y.sum() / y.shape[0])\n"
      ],
      "metadata": {
        "colab": {
          "base_uri": "https://localhost:8080/"
        },
        "id": "GrgqCNuN7-6d",
        "outputId": "038b74b1-5d36-434f-fde8-861100ee2493"
      },
      "execution_count": null,
      "outputs": [
        {
          "output_type": "stream",
          "name": "stdout",
          "text": [
            "(937, 49) (937,)\n",
            "41\n",
            "0.9562433297758804\n",
            "0.04375667022411953\n"
          ]
        }
      ]
    },
    {
      "cell_type": "markdown",
      "source": [
        "#**Hecho 1-c:  Implicaciones a que conllevan un FP o un FN**\n",
        "\n",
        "**Falso Positivo:** Una predicción que resulte en un Falso Positivo significa hacer una movilización de recursos muy costosos: movilización de helicópteros, barcos, maquinaria para ello, técnicos e ingenieros especialistas, etc. Lo cual implicararía un gran gasto no justificado.\n",
        "\n",
        "**Falso Negativo:** Una predicción que resulte en un Falso Negativo, implicaría tiempo muy valioso para detener el derrame de petróleo, con un gran impacto tanto ecológico como económico (mayor cantidad de petróleo derramado que habrá que limpiar).\n",
        "\n",
        "*   Es decir, en este caso podemos concluir que ambos tipos de errores llevarían a costos de diferente naturaleza muy elevados, pero \"igualmente\" costosos.\n",
        "\n"
      ],
      "metadata": {
        "id": "alpDiMpUX5oi"
      }
    },
    {
      "cell_type": "markdown",
      "source": [
        "#**Hecho 1-d: Determinar el tipo de métrica de acuerdo a la Taxonomía de los autores**\n",
        "\n",
        "Es decir, determinar si la salida probabilística es clave para el problema o simplemente la predicción sobre las clases.\n",
        "\n",
        "*   Así, debemos cuidar ambos tipos de errores, pero como las clases están desbalanceada, habrá que hacerlo con métricas como el recall y la especificiada, y su promedio geométrico G-mean.  \n",
        "\n",
        "*   En este caso el valor probabilístico en sí no sería de importancia ya que ambos errores nos llevan a un mismo error igualmente costoso. Es decir, lo primordial es determinar si hubo o no derrame, por lo que la salida se centra en un problema de predecir clases sin importar mucho su valor probabilístico.\n",
        "\n",
        "*   En resumen, bajo estos criterios, nos decidiríamos por una métrica de umbral (threshold metric), en particular la métrica G-mean, la cual toma en consideración que ambos errores FN y FP son igualmente costosos."
      ],
      "metadata": {
        "id": "G1PB7Q8ETawr"
      }
    },
    {
      "cell_type": "markdown",
      "source": [
        "###**Fin de la Actividad en clase de la semana 9**"
      ],
      "metadata": {
        "id": "4JvqwFd25lWb"
      }
    }
  ]
}