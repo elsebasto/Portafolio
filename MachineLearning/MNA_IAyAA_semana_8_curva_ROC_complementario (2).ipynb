{
  "nbformat": 4,
  "nbformat_minor": 0,
  "metadata": {
    "colab": {
      "provenance": [],
      "collapsed_sections": []
    },
    "kernelspec": {
      "name": "python3",
      "display_name": "Python 3"
    },
    "language_info": {
      "name": "python"
    }
  },
  "cells": [
    {
      "cell_type": "markdown",
      "source": [
        "#**Maestría en Inteligencia Artificial Aplicada**\n",
        "##**Curso: Inteligencia Artificial y Aprendizaje Automático**\n",
        "###Tecnológico de Monterrey\n",
        "###Prof Luis Eduardo Falcón Morales\n",
        "\n",
        "### **Semana 8**\n",
        "####**Curva ROC (Receiver Operating Characteristic)**"
      ],
      "metadata": {
        "id": "GhDDcNduQKO0"
      }
    },
    {
      "cell_type": "code",
      "metadata": {
        "id": "NuS5ut8tkpvv"
      },
      "source": [
        "import pandas as pd\n",
        "import numpy as np\n",
        "import matplotlib.pyplot as plt \n",
        "from collections import Counter \n",
        "\n",
        "from sklearn.model_selection import train_test_split\n",
        "from sklearn.metrics import confusion_matrix, plot_roc_curve, recall_score, roc_auc_score\n",
        "from sklearn.metrics import RocCurveDisplay   \n",
        "\n",
        "from sklearn.linear_model import LogisticRegression"
      ],
      "execution_count": 1,
      "outputs": []
    },
    {
      "cell_type": "markdown",
      "source": [
        "https://www.kaggle.com/datasets/kumargh/pimaindiansdiabetescsv"
      ],
      "metadata": {
        "id": "MaYXSHAPQpsW"
      }
    },
    {
      "cell_type": "code",
      "metadata": {
        "id": "CifqZcbdkdFg",
        "colab": {
          "base_uri": "https://localhost:8080/",
          "height": 143
        },
        "outputId": "ddd7126c-79ae-4c40-c6a1-dd3cd18e7497"
      },
      "source": [
        "\n",
        "mypath = \"pima_indians_diabetes.csv\"\n",
        "\n",
        "data = pd.read_csv(mypath, sep=\",\", header='infer')\n",
        "data.head(3)"
      ],
      "execution_count": 2,
      "outputs": [
        {
          "output_type": "execute_result",
          "data": {
            "text/plain": [
              "   Pregnancies  Glucose  BloodPressure  SkinThickness  Insulin   BMI  \\\n",
              "0            6      148             72             35        0  33.6   \n",
              "1            1       85             66             29        0  26.6   \n",
              "2            8      183             64              0        0  23.3   \n",
              "\n",
              "   DiabetesPedigreeFunction  Age  Outcome  \n",
              "0                     0.627   50        1  \n",
              "1                     0.351   31        0  \n",
              "2                     0.672   32        1  "
            ],
            "text/html": [
              "\n",
              "  <div id=\"df-149f3b00-a0bb-43af-87d0-840be1d98cd5\">\n",
              "    <div class=\"colab-df-container\">\n",
              "      <div>\n",
              "<style scoped>\n",
              "    .dataframe tbody tr th:only-of-type {\n",
              "        vertical-align: middle;\n",
              "    }\n",
              "\n",
              "    .dataframe tbody tr th {\n",
              "        vertical-align: top;\n",
              "    }\n",
              "\n",
              "    .dataframe thead th {\n",
              "        text-align: right;\n",
              "    }\n",
              "</style>\n",
              "<table border=\"1\" class=\"dataframe\">\n",
              "  <thead>\n",
              "    <tr style=\"text-align: right;\">\n",
              "      <th></th>\n",
              "      <th>Pregnancies</th>\n",
              "      <th>Glucose</th>\n",
              "      <th>BloodPressure</th>\n",
              "      <th>SkinThickness</th>\n",
              "      <th>Insulin</th>\n",
              "      <th>BMI</th>\n",
              "      <th>DiabetesPedigreeFunction</th>\n",
              "      <th>Age</th>\n",
              "      <th>Outcome</th>\n",
              "    </tr>\n",
              "  </thead>\n",
              "  <tbody>\n",
              "    <tr>\n",
              "      <th>0</th>\n",
              "      <td>6</td>\n",
              "      <td>148</td>\n",
              "      <td>72</td>\n",
              "      <td>35</td>\n",
              "      <td>0</td>\n",
              "      <td>33.6</td>\n",
              "      <td>0.627</td>\n",
              "      <td>50</td>\n",
              "      <td>1</td>\n",
              "    </tr>\n",
              "    <tr>\n",
              "      <th>1</th>\n",
              "      <td>1</td>\n",
              "      <td>85</td>\n",
              "      <td>66</td>\n",
              "      <td>29</td>\n",
              "      <td>0</td>\n",
              "      <td>26.6</td>\n",
              "      <td>0.351</td>\n",
              "      <td>31</td>\n",
              "      <td>0</td>\n",
              "    </tr>\n",
              "    <tr>\n",
              "      <th>2</th>\n",
              "      <td>8</td>\n",
              "      <td>183</td>\n",
              "      <td>64</td>\n",
              "      <td>0</td>\n",
              "      <td>0</td>\n",
              "      <td>23.3</td>\n",
              "      <td>0.672</td>\n",
              "      <td>32</td>\n",
              "      <td>1</td>\n",
              "    </tr>\n",
              "  </tbody>\n",
              "</table>\n",
              "</div>\n",
              "      <button class=\"colab-df-convert\" onclick=\"convertToInteractive('df-149f3b00-a0bb-43af-87d0-840be1d98cd5')\"\n",
              "              title=\"Convert this dataframe to an interactive table.\"\n",
              "              style=\"display:none;\">\n",
              "        \n",
              "  <svg xmlns=\"http://www.w3.org/2000/svg\" height=\"24px\"viewBox=\"0 0 24 24\"\n",
              "       width=\"24px\">\n",
              "    <path d=\"M0 0h24v24H0V0z\" fill=\"none\"/>\n",
              "    <path d=\"M18.56 5.44l.94 2.06.94-2.06 2.06-.94-2.06-.94-.94-2.06-.94 2.06-2.06.94zm-11 1L8.5 8.5l.94-2.06 2.06-.94-2.06-.94L8.5 2.5l-.94 2.06-2.06.94zm10 10l.94 2.06.94-2.06 2.06-.94-2.06-.94-.94-2.06-.94 2.06-2.06.94z\"/><path d=\"M17.41 7.96l-1.37-1.37c-.4-.4-.92-.59-1.43-.59-.52 0-1.04.2-1.43.59L10.3 9.45l-7.72 7.72c-.78.78-.78 2.05 0 2.83L4 21.41c.39.39.9.59 1.41.59.51 0 1.02-.2 1.41-.59l7.78-7.78 2.81-2.81c.8-.78.8-2.07 0-2.86zM5.41 20L4 18.59l7.72-7.72 1.47 1.35L5.41 20z\"/>\n",
              "  </svg>\n",
              "      </button>\n",
              "      \n",
              "  <style>\n",
              "    .colab-df-container {\n",
              "      display:flex;\n",
              "      flex-wrap:wrap;\n",
              "      gap: 12px;\n",
              "    }\n",
              "\n",
              "    .colab-df-convert {\n",
              "      background-color: #E8F0FE;\n",
              "      border: none;\n",
              "      border-radius: 50%;\n",
              "      cursor: pointer;\n",
              "      display: none;\n",
              "      fill: #1967D2;\n",
              "      height: 32px;\n",
              "      padding: 0 0 0 0;\n",
              "      width: 32px;\n",
              "    }\n",
              "\n",
              "    .colab-df-convert:hover {\n",
              "      background-color: #E2EBFA;\n",
              "      box-shadow: 0px 1px 2px rgba(60, 64, 67, 0.3), 0px 1px 3px 1px rgba(60, 64, 67, 0.15);\n",
              "      fill: #174EA6;\n",
              "    }\n",
              "\n",
              "    [theme=dark] .colab-df-convert {\n",
              "      background-color: #3B4455;\n",
              "      fill: #D2E3FC;\n",
              "    }\n",
              "\n",
              "    [theme=dark] .colab-df-convert:hover {\n",
              "      background-color: #434B5C;\n",
              "      box-shadow: 0px 1px 3px 1px rgba(0, 0, 0, 0.15);\n",
              "      filter: drop-shadow(0px 1px 2px rgba(0, 0, 0, 0.3));\n",
              "      fill: #FFFFFF;\n",
              "    }\n",
              "  </style>\n",
              "\n",
              "      <script>\n",
              "        const buttonEl =\n",
              "          document.querySelector('#df-149f3b00-a0bb-43af-87d0-840be1d98cd5 button.colab-df-convert');\n",
              "        buttonEl.style.display =\n",
              "          google.colab.kernel.accessAllowed ? 'block' : 'none';\n",
              "\n",
              "        async function convertToInteractive(key) {\n",
              "          const element = document.querySelector('#df-149f3b00-a0bb-43af-87d0-840be1d98cd5');\n",
              "          const dataTable =\n",
              "            await google.colab.kernel.invokeFunction('convertToInteractive',\n",
              "                                                     [key], {});\n",
              "          if (!dataTable) return;\n",
              "\n",
              "          const docLinkHtml = 'Like what you see? Visit the ' +\n",
              "            '<a target=\"_blank\" href=https://colab.research.google.com/notebooks/data_table.ipynb>data table notebook</a>'\n",
              "            + ' to learn more about interactive tables.';\n",
              "          element.innerHTML = '';\n",
              "          dataTable['output_type'] = 'display_data';\n",
              "          await google.colab.output.renderOutput(dataTable, element);\n",
              "          const docLink = document.createElement('div');\n",
              "          docLink.innerHTML = docLinkHtml;\n",
              "          element.appendChild(docLink);\n",
              "        }\n",
              "      </script>\n",
              "    </div>\n",
              "  </div>\n",
              "  "
            ]
          },
          "metadata": {},
          "execution_count": 2
        }
      ]
    },
    {
      "cell_type": "code",
      "metadata": {
        "id": "n_HsuLzWmYsI"
      },
      "source": [
        "X = data[['Pregnancies','Glucose','BloodPressure','SkinThickness','Insulin','BMI','DiabetesPedigreeFunction','Age']]\n",
        "Y = data[['Outcome']]"
      ],
      "execution_count": 3,
      "outputs": []
    },
    {
      "cell_type": "code",
      "metadata": {
        "id": "NTYzRUhPnHeB",
        "colab": {
          "base_uri": "https://localhost:8080/"
        },
        "outputId": "6c4167a8-119f-49d4-e91d-544e851bdd2a"
      },
      "source": [
        "Counter(Y['Outcome'])"
      ],
      "execution_count": 4,
      "outputs": [
        {
          "output_type": "execute_result",
          "data": {
            "text/plain": [
              "Counter({1: 268, 0: 500})"
            ]
          },
          "metadata": {},
          "execution_count": 4
        }
      ]
    },
    {
      "cell_type": "code",
      "metadata": {
        "id": "HpSY9k8fmWcB",
        "colab": {
          "base_uri": "https://localhost:8080/"
        },
        "outputId": "7879c32c-5925-472c-891a-cecaa482113f"
      },
      "source": [
        "Xtrain, Xtest, ytrain, ytest = train_test_split(X, Y, train_size=0.7, random_state=7)\n",
        "\n",
        "print(Xtrain.shape)\n",
        "print(Xtest.shape)\n",
        "print(ytrain.shape)\n",
        "print(ytest.shape)"
      ],
      "execution_count": 5,
      "outputs": [
        {
          "output_type": "stream",
          "name": "stdout",
          "text": [
            "(537, 8)\n",
            "(231, 8)\n",
            "(537, 1)\n",
            "(231, 1)\n"
          ]
        }
      ]
    },
    {
      "cell_type": "code",
      "metadata": {
        "id": "JayPaCltotuO",
        "colab": {
          "base_uri": "https://localhost:8080/"
        },
        "outputId": "504b0d93-b507-46bd-f3f9-3395a20caa12"
      },
      "source": [
        "modelo_LR = LogisticRegression(max_iter=1000).fit(Xtrain, np.ravel(ytrain))\n",
        "modelo_LR.score(Xtest,ytest)"
      ],
      "execution_count": 6,
      "outputs": [
        {
          "output_type": "execute_result",
          "data": {
            "text/plain": [
              "0.7792207792207793"
            ]
          },
          "metadata": {},
          "execution_count": 6
        }
      ]
    },
    {
      "cell_type": "code",
      "source": [
        "pred_bin = modelo_LR.predict(Xtest)\n",
        "\n",
        "# ytest : etiquetas reales\n",
        "# pred_bin : predicciones de mi modelo\n",
        "\n",
        "cm = confusion_matrix(ytest, pred_bin)    # los renglones son los reales y las columnas las predicciones.\n",
        "print(cm)"
      ],
      "metadata": {
        "colab": {
          "base_uri": "https://localhost:8080/"
        },
        "id": "N_1tF1EwPH7i",
        "outputId": "b3017130-2b79-423e-9893-fc5a0625eea7"
      },
      "execution_count": 7,
      "outputs": [
        {
          "output_type": "stream",
          "name": "stdout",
          "text": [
            "[[130  17]\n",
            " [ 34  50]]\n"
          ]
        }
      ]
    },
    {
      "cell_type": "code",
      "metadata": {
        "id": "OMhrNPxT3zr5",
        "colab": {
          "base_uri": "https://localhost:8080/"
        },
        "outputId": "4ae89f9b-d465-478e-da23-2e7157dd1774"
      },
      "source": [
        "pred = modelo_LR.predict_proba(Xtest)    # predicciones en formato probabilístico.\n",
        "pred[0:5,:]  # la suma de los valores por renglón es 1. P.ej., un valor arriba de 0.5 es de la clase de esa coordenada\n",
        "             # por lo que con solo una columna podemos seguir trabajando ya que son complementarias. \n",
        "             # En particular seleccionaremos más adelante la segunda columna y trabajaremos con ella:"
      ],
      "execution_count": 8,
      "outputs": [
        {
          "output_type": "execute_result",
          "data": {
            "text/plain": [
              "array([[0.93287172, 0.06712828],\n",
              "       [0.12244279, 0.87755721],\n",
              "       [0.2488545 , 0.7511455 ],\n",
              "       [0.85504632, 0.14495368],\n",
              "       [0.62180708, 0.37819292]])"
            ]
          },
          "metadata": {},
          "execution_count": 8
        }
      ]
    },
    {
      "cell_type": "code",
      "metadata": {
        "id": "YP5DK-UssoQN",
        "colab": {
          "base_uri": "https://localhost:8080/"
        },
        "outputId": "087ba518-2be3-4142-951c-df7dbec02cca"
      },
      "source": [
        "my0s = (ytest['Outcome']==0)   # Se genera el vector Booleano, my0s, con TRUE para las entradas con 0s y FALSE para los 1s. Buscamos quedarnos solo con los negativos.\n",
        "my1s = (ytest['Outcome']==1)   # De manera complemtaria, ahora \"my1s\" es el vector Booleanco con TRUE para los 1s - FALSE para los 0s. Ahora buscamos solo los positivos.\n",
        "\n",
        "print(my0s.shape)\n",
        "print(sum(my0s))   # ambos suman el total del Test set.\n",
        "print(sum(my1s))"
      ],
      "execution_count": 9,
      "outputs": [
        {
          "output_type": "stream",
          "name": "stdout",
          "text": [
            "(231,)\n",
            "147\n",
            "84\n"
          ]
        }
      ]
    },
    {
      "cell_type": "code",
      "source": [
        "print(ytest[0:5])\n",
        "print(my0s[0:5])"
      ],
      "metadata": {
        "colab": {
          "base_uri": "https://localhost:8080/"
        },
        "id": "WEjzH949Dc7f",
        "outputId": "a75d261a-428d-431b-f736-f2f551dbc46f"
      },
      "execution_count": 10,
      "outputs": [
        {
          "output_type": "stream",
          "name": "stdout",
          "text": [
            "     Outcome\n",
            "353        0\n",
            "236        1\n",
            "323        1\n",
            "98         0\n",
            "701        1\n",
            "353     True\n",
            "236    False\n",
            "323    False\n",
            "98      True\n",
            "701    False\n",
            "Name: Outcome, dtype: bool\n"
          ]
        }
      ]
    },
    {
      "cell_type": "markdown",
      "metadata": {
        "id": "N7T7Dqq75TgR"
      },
      "source": [
        "###**Observa que para el caso de la clase 0, aún cuando el vector de predicciones pred0s tiene las probabilidades cercanas al 1 en la primer coordenada (o coordenada 0), nosotros seleccionamos la segunda coordenada (o coordenada 1) porque es el complemento que tiene los valores cercanos al 0. Y estos valores cercanos al 0 son los que se estarán graficando en el scatter plot. Para el caso de la clase 1 la misma segunda coordenada nos da directamente su probabilidad.**"
      ]
    },
    {
      "cell_type": "code",
      "source": [
        "pred[0:5,:]  # todas las predicciones..."
      ],
      "metadata": {
        "colab": {
          "base_uri": "https://localhost:8080/"
        },
        "id": "S5V6j5yWJ4Oy",
        "outputId": "a5df4283-fce6-46e0-f6c3-0295a4f439d2"
      },
      "execution_count": 11,
      "outputs": [
        {
          "output_type": "execute_result",
          "data": {
            "text/plain": [
              "array([[0.93287172, 0.06712828],\n",
              "       [0.12244279, 0.87755721],\n",
              "       [0.2488545 , 0.7511455 ],\n",
              "       [0.85504632, 0.14495368],\n",
              "       [0.62180708, 0.37819292]])"
            ]
          },
          "metadata": {},
          "execution_count": 11
        }
      ]
    },
    {
      "cell_type": "code",
      "source": [
        "pred[my0s][0:5,:]    # solo las predicciones donde la primer coordenada es la que tiene etiqueta real 0.\n",
        "              # Es decri, si el modelo hubiera quedado entrenado al 100% de accuracy, todas las \n",
        "              # primeras coordenadas debieran tener un valor de probabilidad mayor a la segunda coordenada.\n",
        "              # Y así, las primeras coordenadas que veas menores a 0.5, serían errores de predicción,\n",
        "              # estrictamente son FP. "
      ],
      "metadata": {
        "colab": {
          "base_uri": "https://localhost:8080/"
        },
        "id": "KjqsUWOlHkHj",
        "outputId": "e72b7ee2-9a55-43e3-ec33-715c937feb51"
      },
      "execution_count": 12,
      "outputs": [
        {
          "output_type": "execute_result",
          "data": {
            "text/plain": [
              "array([[0.93287172, 0.06712828],\n",
              "       [0.85504632, 0.14495368],\n",
              "       [0.92792772, 0.07207228],\n",
              "       [0.05946838, 0.94053162],\n",
              "       [0.86947277, 0.13052723]])"
            ]
          },
          "metadata": {},
          "execution_count": 12
        }
      ]
    },
    {
      "cell_type": "code",
      "metadata": {
        "id": "9xTDiTH81NMi",
        "colab": {
          "base_uri": "https://localhost:8080/"
        },
        "outputId": "16603b44-5ad5-4bfd-eb69-9a0d7a03ce58"
      },
      "source": [
        "# pred : tamaño (231,2) con las probabilidades compelemtarias por renglón.\n",
        "\n",
        "# Así, al seleccionar solo la segunda columna, queda automáticamente que cuando dicho valor es menor a 0.5, la podemos\n",
        "# asociar ahora a la clase negativa y cuando sea mayor al 0.5 será de la clase positiva\n",
        "\n",
        "pred0s  = pred[my0s][:,1]    # seleccionamos las probabilidades de nuestro modelo solo para los casos de etiquetas de 0s reales.\n",
        "                             # Es decir, en teoría todos estos debieran ser probabilidades de predicción menores a 0.5.\n",
        "\n",
        "pred1s  = pred[my1s][:,1]    # seleccionamos las probabilidades de nuestro modelo solo para los casos de etiquetas de 1s reales.\n",
        "                             # Es decir, en teoría todos estos debieran ser predicciones de valores mayores a 0.5.\n",
        "\n",
        "print(pred0s.shape)   \n",
        "print(pred1s.shape)"
      ],
      "execution_count": 13,
      "outputs": [
        {
          "output_type": "stream",
          "name": "stdout",
          "text": [
            "(147,)\n",
            "(84,)\n"
          ]
        }
      ]
    },
    {
      "cell_type": "code",
      "source": [
        "print(pred1s.shape)\n",
        "print(pred1s[0:5])     # En este caso, de las 5 primeras predicciones que debieron ser todas positivas,\n",
        "                       # solo la primera y la quinta son correctas, y los tres de en medio son FN."
      ],
      "metadata": {
        "colab": {
          "base_uri": "https://localhost:8080/"
        },
        "id": "8_tob5ZKMG15",
        "outputId": "ed1d7237-5a5c-4965-b9bc-b99729912f4f"
      },
      "execution_count": 14,
      "outputs": [
        {
          "output_type": "stream",
          "name": "stdout",
          "text": [
            "(84,)\n",
            "[0.87755721 0.7511455  0.37819292 0.49697191 0.27258307]\n"
          ]
        }
      ]
    },
    {
      "cell_type": "markdown",
      "source": [
        "###**Generemos una gráfica para visualizar mejor esta relación:**"
      ],
      "metadata": {
        "id": "zJnvoMLYMgRe"
      }
    },
    {
      "cell_type": "code",
      "metadata": {
        "id": "ojDzCgcdt0C9",
        "colab": {
          "base_uri": "https://localhost:8080/"
        },
        "outputId": "0d80049a-685e-4d50-928b-2ef503c6e6b8"
      },
      "source": [
        "r0 = np.random.uniform(-0.3,0.3, size=pred0s.shape[0])    # Generamos aleatorios uniforme para el eje x\n",
        "                                                          # de longitud el total de 0-TRUEs en Xtest, entre\n",
        "                                                          # algún intervalo deseado, que aquí usamos (-0.3, +0.3)\n",
        "\n",
        "r1 = np.random.uniform(0.7,1.3, size=pred1s.shape[0])     # El análogo para 1-TRUEs de Xtest. Pero para que aparezcan\n",
        "                                                          # cercanos uno al otro, seleccionemos ahora el intervalo (+0.7, +1.3)\n",
        "\n",
        "print(r0.shape)\n",
        "#print(r0[0:5])\n",
        "print(r1.shape)\n",
        "#print(r1[0:5])"
      ],
      "execution_count": 15,
      "outputs": [
        {
          "output_type": "stream",
          "name": "stdout",
          "text": [
            "(147,)\n",
            "(84,)\n"
          ]
        }
      ]
    },
    {
      "cell_type": "code",
      "metadata": {
        "id": "_c7_18xuzUjS",
        "colab": {
          "base_uri": "https://localhost:8080/",
          "height": 265
        },
        "outputId": "96a16e02-2356-4671-d3f5-bfc5b72accc3"
      },
      "source": [
        "# En el gráfico los puntos azules son las predicciones de todos los registros negativos reales.\n",
        "# Es decir, para un modelo perfecto, todos los puntos azules deberían haber quedado abajo de 0.5.\n",
        "\n",
        "# La columna de los puntos anaranjados son todas las predicciones de los registros positivos reales.\n",
        "# Es decir, en teoría todos estos puntos debieron haber quedado arriba del 0.5.\n",
        "\n",
        "plt.scatter(x=r0, y=pred0s)   # En teoría todos estos debieran ser menores a 0.5.\n",
        "plt.scatter(x=r1, y=pred1s)   # Y todos estos debieran ser mayores a 0.5.\n",
        "\n",
        "plt.hlines(0.5, -0.35, 1.35, color='g', linestyles='dashed')   # el primer valor es la constante para \"y\" y los otros 2 son \n",
        "                                                               # donde inicia y termina en el eje horizontal.\n",
        "plt.show()"
      ],
      "execution_count": 16,
      "outputs": [
        {
          "output_type": "display_data",
          "data": {
            "text/plain": [
              "<Figure size 432x288 with 1 Axes>"
            ],
            "image/png": "[encoded data removed]"
          },
          "metadata": {
            "needs_background": "light"
          }
        }
      ]
    },
    {
      "cell_type": "code",
      "metadata": {
        "id": "xAOgEvCL9Ix3",
        "colab": {
          "base_uri": "https://localhost:8080/"
        },
        "outputId": "6a0b3a2d-4c64-4694-e191-3bca14f18ef9"
      },
      "source": [
        "# Cuando hacemos nuestras predicciones y obtenemos por ejemplo la matriz de confusión,\n",
        "# de manera predeterminada se está considerando que 0.5 es el umbral para las clases negativa y positiva.\n",
        "\n",
        "pred_bin = modelo_LR.predict(Xtest)\n",
        "cm = confusion_matrix(ytest, pred_bin)    # los renglones son los reales y las columnas las predicciones.\n",
        "print(cm)\n",
        "\n",
        "tt = np.sum(cm)\n",
        "print('real-0: [%.3f, %.3f]' % (cm[0,0]/tt, cm[0,1]/tt))\n",
        "print('real-1: [%.3f, %.3f]' % (cm[1,0]/tt, cm[1,1]/tt))"
      ],
      "execution_count": 17,
      "outputs": [
        {
          "output_type": "stream",
          "name": "stdout",
          "text": [
            "[[130  17]\n",
            " [ 34  50]]\n",
            "real-0: [0.563, 0.074]\n",
            "real-1: [0.147, 0.216]\n"
          ]
        }
      ]
    },
    {
      "cell_type": "code",
      "metadata": {
        "id": "Yt-7FtfVv16K",
        "colab": {
          "base_uri": "https://localhost:8080/"
        },
        "outputId": "ba4f228c-a977-41d7-872e-521728cca141"
      },
      "source": [
        "TPrate = cm[1,1]/(cm[1,0]+cm[1,1])\n",
        "FPrate = cm[0,1]/(cm[0,0]+cm[0,1])\n",
        "print('TP_rate-recall:%.5f' % TPrate)\n",
        "print('FP_rate:%.5f' % FPrate)"
      ],
      "execution_count": 18,
      "outputs": [
        {
          "output_type": "stream",
          "name": "stdout",
          "text": [
            "TP_rate-recall:0.59524\n",
            "FP_rate:0.11565\n"
          ]
        }
      ]
    },
    {
      "cell_type": "code",
      "metadata": {
        "id": "jDFmDYpT8ioA",
        "colab": {
          "base_uri": "https://localhost:8080/",
          "height": 279
        },
        "outputId": "d4ace182-acef-428f-c3ac-f01d7e7909f1"
      },
      "source": [
        "RocCurveDisplay.from_estimator(modelo_LR, Xtest, ytest)\n",
        "plt.plot([0,0,1,0],[0,1,1,0], 'y--')\n",
        "plt.hlines(TPrate, 0, FPrate, colors='r', linestyles='dotted')  # Se calcula TPrate y FPrate con base a threshold=0.5\n",
        "plt.vlines(FPrate, 0, TPrate, colors='r', linestyles='dotted')  # Pero el mejor umbral para que ambos errores estén lo más equilibrados\n",
        "plt.show()                                                      # es el que se calcula con el círculo centrado en (0,1)."
      ],
      "execution_count": 19,
      "outputs": [
        {
          "output_type": "display_data",
          "data": {
            "text/plain": [
              "<Figure size 432x288 with 1 Axes>"
            ],
            "image/png": "[encoded data removed]"
          },
          "metadata": {
            "needs_background": "light"
          }
        }
      ]
    },
    {
      "cell_type": "markdown",
      "metadata": {
        "id": "PlyIuyVM1z7Z"
      },
      "source": [
        "###**Ajustando para un mejor threshold**"
      ]
    },
    {
      "cell_type": "code",
      "metadata": {
        "id": "wM5oOPIOGOUU"
      },
      "source": [
        "# regresa los TP para un umbral deseado:\n",
        "\n",
        "def fun_thTPrate(th, modelo, x, y):   \n",
        "  p = modelo.predict_proba(x)   # shape (231x2)\n",
        "  my1s = (y['Outcome']==1) \n",
        "  pred1s  = p[my1s][:,1]\n",
        "  return sum(pred1s > th) / sum(my1s)"
      ],
      "execution_count": 20,
      "outputs": []
    },
    {
      "cell_type": "code",
      "metadata": {
        "id": "6JGXrSk9Gaps",
        "colab": {
          "base_uri": "https://localhost:8080/"
        },
        "outputId": "fc42f7e4-0412-4906-f979-fcc751c593b8"
      },
      "source": [
        "fun_thTPrate(0.5, modelo_LR, Xtest, ytest)  # validando nuestra función con th=0.5"
      ],
      "execution_count": 21,
      "outputs": [
        {
          "output_type": "execute_result",
          "data": {
            "text/plain": [
              "0.5952380952380952"
            ]
          },
          "metadata": {},
          "execution_count": 21
        }
      ]
    },
    {
      "cell_type": "code",
      "metadata": {
        "id": "qkWxEYBKCchl"
      },
      "source": [
        "# Análogo ahora con los FP:\n",
        "\n",
        "def fun_thFPrate(th, modelo, x, y):   \n",
        "  p = modelo.predict_proba(x)\n",
        "  my0s = (y['Outcome']==0) \n",
        "  pred0s  = p[my0s][:,1]\n",
        "  return sum(pred0s>th) / sum(my0s)"
      ],
      "execution_count": 22,
      "outputs": []
    },
    {
      "cell_type": "code",
      "metadata": {
        "id": "wZU0p7I-Fhwc",
        "colab": {
          "base_uri": "https://localhost:8080/"
        },
        "outputId": "cb9fab00-89f0-44e4-cb90-bef9ea5b2181"
      },
      "source": [
        "fun_thFPrate(0.5, modelo_LR, Xtest, ytest)   # validando nuestra función con th=0.5"
      ],
      "execution_count": 23,
      "outputs": [
        {
          "output_type": "execute_result",
          "data": {
            "text/plain": [
              "0.11564625850340136"
            ]
          },
          "metadata": {},
          "execution_count": 23
        }
      ]
    },
    {
      "cell_type": "code",
      "metadata": {
        "id": "E-Nw97eU2gYg",
        "colab": {
          "base_uri": "https://localhost:8080/",
          "height": 279
        },
        "outputId": "e9c342c8-8ead-43bf-8bbf-31bbf841b6cc"
      },
      "source": [
        "# En este gráfico trata de modificar los valores del umbral deseado \"new_th\" \n",
        "# y el valor del radio \"rr\", de manera que el círculo quede tangente a la ROC-curve \n",
        "# y el nodo del rectángulo naranja coincidan, aproximadamente. \n",
        "\n",
        "# Si ambos errores, FP y FN son igual de costosos, esta coincidencia del nodo y \n",
        "# el círculo equilibra \"aproximadamente\" ambos errores a su mínimo conjunto.\n",
        "\n",
        "\n",
        "new_th = 0.3 # búsquda del mejor umbral que minimiza el total FP+FN.\n",
        "rr = 0.36   # búsqueda del mejor radio\n",
        "\n",
        "new_TPrate = fun_thTPrate(new_th, modelo_LR, Xtest, ytest)\n",
        "new_FPrate = fun_thFPrate(new_th, modelo_LR, Xtest, ytest)\n",
        "\n",
        "RocCurveDisplay.from_estimator(modelo_LR, Xtest, ytest)\n",
        "plt.plot([0,0,1,0],[0,1,1,0], 'y--')\n",
        "plt.hlines(new_TPrate, 0, new_FPrate, colors='r', linestyles='dotted')  \n",
        "plt.vlines(new_FPrate, 0, new_TPrate, colors='r', linestyles='dotted')  \n",
        "\n",
        "# graficando el pedazo de cícrulo:\n",
        "an = np.linspace(1.5*np.pi, 2*np.pi, 20)\n",
        "plt.plot(rr*np.cos(an), rr*np.sin(an)+1)\n",
        "plt.axis('equal')\n",
        "plt.show()   "
      ],
      "execution_count": 24,
      "outputs": [
        {
          "output_type": "display_data",
          "data": {
            "text/plain": [
              "<Figure size 432x288 with 1 Axes>"
            ],
            "image/png": "[encoded data removed]"
          },
          "metadata": {
            "needs_background": "light"
          }
        }
      ]
    },
    {
      "cell_type": "code",
      "metadata": {
        "id": "X-rb8hzW6sa5",
        "colab": {
          "base_uri": "https://localhost:8080/",
          "height": 265
        },
        "outputId": "68e3ce28-6512-40d0-edee-975df40d35ae"
      },
      "source": [
        "plt.scatter(x=r0, y=pred0s)\n",
        "plt.scatter(x=r1, y=pred1s)\n",
        "plt.hlines(0.5, -0.35,1.35,color='g',linestyles='dashed')\n",
        "plt.hlines(new_th, -0.35,1.35,color='r',linestyles='dashed')\n",
        "plt.show()"
      ],
      "execution_count": 25,
      "outputs": [
        {
          "output_type": "display_data",
          "data": {
            "text/plain": [
              "<Figure size 432x288 with 1 Axes>"
            ],
            "image/png": "[encoded data removed]"
          },
          "metadata": {
            "needs_background": "light"
          }
        }
      ]
    },
    {
      "cell_type": "markdown",
      "source": [
        "###**Predicciones y Matriz de Confusión con el mejor Umbral (threshold):**"
      ],
      "metadata": {
        "id": "jVlF2-XqltPf"
      }
    },
    {
      "cell_type": "code",
      "source": [
        "pred_pr = modelo_LR.predict_proba(Xtest)  # obtenemos primero las predicciones en formato probabilístico de 0 a 1. Este es vector 2D.\n",
        "pred_pr = pred_pr[:,1]    # como comentamos, es suficiente quedarnos con las probabilidades de la segunda coordenada. Este ya es vector 1D.\n",
        "\n",
        "# Y realizamos nuestras predicciones a la clase 0 y a la clase 1 con base al mejor umbral new_th encontrado:\n",
        "pred_bin_newTh = pred_pr > new_th\n",
        "pred_bin_05 = modelo_LR.predict(Xtest)\n",
        "\n",
        "print('Casos donde FP y FN los consideramos igualmente costosos:\\n')\n",
        "print('Predicciones con el umbral predeterminado 0.5:')\n",
        "cm05 = confusion_matrix(ytest, pred_bin_05)    # los renglones son los reales y las columnas las predicciones.\n",
        "print(cm05)\n",
        "\n",
        "print('\\nPredicciones con un mejor umbral de %.2f:' % new_th)\n",
        "cmTh = confusion_matrix(ytest, pred_bin_newTh)    \n",
        "print(cmTh)\n"
      ],
      "metadata": {
        "colab": {
          "base_uri": "https://localhost:8080/"
        },
        "id": "4oln5i9Vl5JX",
        "outputId": "8233ddf9-6716-43b6-e857-52eb2dbb686d"
      },
      "execution_count": 26,
      "outputs": [
        {
          "output_type": "stream",
          "name": "stdout",
          "text": [
            "Casos donde FP y FN los consideramos igualmente costosos:\n",
            "\n",
            "Predicciones con el umbral predeterminado 0.5:\n",
            "[[130  17]\n",
            " [ 34  50]]\n",
            "\n",
            "Predicciones con un mejor umbral de 0.30:\n",
            "[[99 48]\n",
            " [17 67]]\n"
          ]
        }
      ]
    },
    {
      "cell_type": "markdown",
      "metadata": {
        "id": "3nilMXAGNuCR"
      },
      "source": [
        "#**Comparando modelos con ROC curves y AUC**"
      ]
    },
    {
      "cell_type": "code",
      "metadata": {
        "id": "8Hs2Xi9VN02Q"
      },
      "source": [
        "from sklearn.svm import SVC"
      ],
      "execution_count": 27,
      "outputs": []
    },
    {
      "cell_type": "code",
      "metadata": {
        "colab": {
          "base_uri": "https://localhost:8080/"
        },
        "id": "ROLLCHW9OfMJ",
        "outputId": "f5f1d1d6-f5eb-4cb9-f5d6-18296eda432b"
      },
      "source": [
        "modelo_SVM = SVC().fit(Xtrain, np.ravel(ytrain))\n",
        "modelo_SVM.score(Xtest,ytest)"
      ],
      "execution_count": 28,
      "outputs": [
        {
          "output_type": "execute_result",
          "data": {
            "text/plain": [
              "0.7532467532467533"
            ]
          },
          "metadata": {},
          "execution_count": 28
        }
      ]
    },
    {
      "cell_type": "code",
      "source": [
        "lr_curve = RocCurveDisplay.from_estimator(modelo_LR, Xtest, ytest)\n",
        "svm_curve = RocCurveDisplay.from_estimator(modelo_SVM, Xtest, ytest, ax=lr_curve.ax_)\n",
        "\n",
        "plt.plot([0,0,1,0],[0,1,1,0], 'y--')\n",
        "\n",
        " \n",
        "plt.axis('equal')\n",
        "plt.show() "
      ],
      "metadata": {
        "colab": {
          "base_uri": "https://localhost:8080/",
          "height": 279
        },
        "id": "l_Ja2qOgXGCr",
        "outputId": "3127d77d-5b3c-4a24-abb3-233c7b4de471"
      },
      "execution_count": 29,
      "outputs": [
        {
          "output_type": "display_data",
          "data": {
            "text/plain": [
              "<Figure size 432x288 with 1 Axes>"
            ],
            "image/png": "[encoded data removed]"
          },
          "metadata": {
            "needs_background": "light"
          }
        }
      ]
    },
    {
      "cell_type": "markdown",
      "source": [
        "###**Fin del Jupyter-Notebook sobre la curva ROC - semana 8**"
      ],
      "metadata": {
        "id": "uCMpOPOOTQOA"
      }
    }
  ]
}